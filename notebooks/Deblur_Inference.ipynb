{
  "cells": [
    {
      "cell_type": "markdown",
      "metadata": {
        "id": "view-in-github",
        "colab_type": "text"
      },
      "source": [
        "<a href=\"https://colab.research.google.com/github/Tania526-sudo/Image-Deblurring/blob/main/notebooks/Deblur_Inference.ipynb\" target=\"_parent\"><img src=\"https://colab.research.google.com/assets/colab-badge.svg\" alt=\"Open In Colab\"/></a>"
      ]
    },
    {
      "cell_type": "code",
      "execution_count": 1,
      "id": "955e3307",
      "metadata": {
        "vscode": {
          "languageId": "plaintext"
        },
        "id": "955e3307"
      },
      "outputs": [],
      "source": [
        "# ## Image Deblurring: Inference with Pretrained MPRNet\n",
        "# This notebook demonstrates how to download an MPRNet model from Torch Hub, apply it to a blurred image, and save the result."
      ]
    },
    {
      "cell_type": "code",
      "execution_count": 2,
      "id": "4dcde8be",
      "metadata": {
        "vscode": {
          "languageId": "plaintext"
        },
        "id": "4dcde8be"
      },
      "outputs": [],
      "source": [
        "import torch\n",
        "from PIL import Image\n",
        "import torchvision.transforms as T\n",
        "import numpy as np\n",
        "import matplotlib.pyplot as plt"
      ]
    },
    {
      "cell_type": "code",
      "execution_count": 3,
      "id": "e2c7a1f0",
      "metadata": {
        "vscode": {
          "languageId": "plaintext"
        },
        "id": "e2c7a1f0"
      },
      "outputs": [],
      "source": [
        "def preprocess(image):\n",
        "    transform = T.Compose([\n",
        "        T.ToTensor(),\n",
        "    ])\n",
        "    return transform(image).unsqueeze(0)\n",
        "\n",
        "def postprocess(tensor):\n",
        "    img = tensor.squeeze(0).cpu().clamp(0, 1).numpy()\n",
        "    img = np.transpose(img, (1, 2, 0)) * 255\n",
        "    return Image.fromarray(img.astype(np.uint8))"
      ]
    },
    {
      "cell_type": "code",
      "execution_count": null,
      "id": "8ae0c2b9",
      "metadata": {
        "vscode": {
          "languageId": "plaintext"
        },
        "id": "8ae0c2b9"
      },
      "outputs": [],
      "source": [
        "# --- Loading the MPRNet model ---\n",
        "\n",
        "device = torch.device(\"cuda\" if torch.cuda.is_available() else \"cpu\")\n",
        "print(f\"Using device: {device}\")\n",
        "\n",
        "model = torch.hub.load('swz30/MPRNet', 'MPRNet', pretrained=True)\n",
        "model.to(device).eval()"
      ]
    },
    {
      "cell_type": "code",
      "execution_count": null,
      "id": "e66805b3",
      "metadata": {
        "vscode": {
          "languageId": "plaintext"
        },
        "id": "e66805b3"
      },
      "outputs": [],
      "source": [
        "# --- Uploading a blurred image ---\n",
        "input_path = 'path_to_blurred_image.jpg'\n",
        "blurred_img = Image.open(input_path).convert('RGB')\n",
        "\n",
        "plt.figure(figsize=(8, 8))\n",
        "plt.title('Input Blurred Image')\n",
        "plt.axis('off')\n",
        "plt.imshow(blurred_img)\n",
        "plt.show()"
      ]
    },
    {
      "cell_type": "code",
      "execution_count": null,
      "id": "47b1139e",
      "metadata": {
        "vscode": {
          "languageId": "plaintext"
        },
        "id": "47b1139e"
      },
      "outputs": [],
      "source": [
        "# --- Inference---\n",
        "input_tensor = preprocess(blurred_img).to(device)\n",
        "\n",
        "with torch.no_grad():\n",
        "    output_tensor = model(input_tensor)\n",
        "\n",
        "deblurred_img = postprocess(output_tensor)\n",
        "\n",
        "plt.figure(figsize=(8, 8))\n",
        "plt.title('Deblurred Output Image')\n",
        "plt.axis('off')\n",
        "plt.imshow(deblurred_img)\n",
        "plt.show()"
      ]
    },
    {
      "cell_type": "code",
      "execution_count": null,
      "id": "2d8dde95",
      "metadata": {
        "vscode": {
          "languageId": "plaintext"
        },
        "id": "2d8dde95"
      },
      "outputs": [],
      "source": [
        "# --- Saving the result ---\n",
        "output_path = 'deblurred_output.jpg'\n",
        "deblurred_img.save(output_path)\n",
        "print(f\"Deblurred image saved to {output_path}\")"
      ]
    },
    {
      "cell_type": "code",
      "execution_count": null,
      "id": "f3994444",
      "metadata": {
        "vscode": {
          "languageId": "plaintext"
        },
        "id": "f3994444"
      },
      "outputs": [],
      "source": []
    },
    {
      "cell_type": "code",
      "execution_count": null,
      "id": "6bfffc8f",
      "metadata": {
        "vscode": {
          "languageId": "plaintext"
        },
        "id": "6bfffc8f"
      },
      "outputs": [],
      "source": []
    },
    {
      "cell_type": "code",
      "execution_count": null,
      "id": "e4906547",
      "metadata": {
        "vscode": {
          "languageId": "plaintext"
        },
        "id": "e4906547"
      },
      "outputs": [],
      "source": []
    }
  ],
  "metadata": {
    "language_info": {
      "name": "python"
    },
    "colab": {
      "provenance": [],
      "include_colab_link": true
    },
    "kernelspec": {
      "name": "python3",
      "display_name": "Python 3"
    }
  },
  "nbformat": 4,
  "nbformat_minor": 5
}