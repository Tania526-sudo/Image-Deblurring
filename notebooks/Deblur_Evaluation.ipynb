{
 "cells": [
  {
   "cell_type": "code",
   "execution_count": 1,
   "id": "c0fa5022",
   "metadata": {},
   "outputs": [],
   "source": [
    "# Deblur_Evaluation.ipynb\n",
    "\n",
    "# ## Evaluating the quality of de-blurring on a pair of images\n",
    "# We calculate the PSNR and SSIM metrics between the original (sharp) and restored images."
   ]
  },
  {
   "cell_type": "code",
   "execution_count": null,
   "id": "ad08285d",
   "metadata": {},
   "outputs": [],
   "source": [
    "import os\n",
    "from glob import glob\n",
    "from PIL import Image\n",
    "import numpy as np\n",
    "import torch\n",
    "import torchvision.transforms as T\n",
    "from skimage.metrics import peak_signal_noise_ratio as psnr\n",
    "from skimage.metrics import structural_similarity as ssim\n",
    "import matplotlib.pyplot as plt"
   ]
  },
  {
   "cell_type": "code",
   "execution_count": null,
   "id": "dbc6ac67",
   "metadata": {},
   "outputs": [],
   "source": [
    "# --- Preprocessing functions ---\n",
    "\n",
    "def preprocess(image):\n",
    "    transform = T.Compose([T.ToTensor()])\n",
    "    return transform(image).unsqueeze(0)"
   ]
  },
  {
   "cell_type": "code",
   "execution_count": null,
   "id": "8b0bb80a",
   "metadata": {},
   "outputs": [],
   "source": [
    "# --- Post-processing functions ---\n",
    "\n",
    "def postprocess(tensor):\n",
    "    img = tensor.squeeze(0).cpu().clamp(0, 1).numpy()\n",
    "    img = np.transpose(img, (1, 2, 0)) * 255\n",
    "    return img.astype(np.uint8)"
   ]
  },
  {
   "cell_type": "code",
   "execution_count": null,
   "id": "1347f047",
   "metadata": {},
   "outputs": [],
   "source": [
    "# --- Loading the model ---\n",
    "\n",
    "device = torch.device(\"cuda\" if torch.cuda.is_available() else \"cpu\")\n",
    "model = torch.hub.load('swz30/MPRNet', 'MPRNet', pretrained=True)\n",
    "model.to(device).eval()"
   ]
  },
  {
   "cell_type": "code",
   "execution_count": null,
   "id": "a580982c",
   "metadata": {},
   "outputs": [],
   "source": [
    "# --- Paths to test image folders ---\n",
    "\n",
    "blur_dir = 'dataset/blurred'   \n",
    "sharp_dir = 'dataset/sharp'    \n",
    "\n",
    "blur_images = sorted(glob(os.path.join(blur_dir, '*')))\n",
    "sharp_images = sorted(glob(os.path.join(sharp_dir, '*')))\n",
    "\n",
    "psnr_list = []\n",
    "ssim_list = []"
   ]
  },
  {
   "cell_type": "code",
   "execution_count": null,
   "id": "49e74e3b",
   "metadata": {},
   "outputs": [],
   "source": [
    "for blur_path, sharp_path in zip(blur_images, sharp_images):\n",
    "    blur_img = Image.open(blur_path).convert('RGB')\n",
    "    sharp_img = Image.open(sharp_path).convert('RGB')\n",
    "    \n",
    "    # Model inference\n",
    "    input_tensor = preprocess(blur_img).to(device)\n",
    "    with torch.no_grad():\n",
    "        output_tensor = model(input_tensor)\n",
    "    output_img = postprocess(output_tensor)\n",
    "\n",
    "    sharp_np = np.array(sharp_img)\n",
    "\n",
    "    # Metrics calculation\n",
    "    current_psnr = psnr(sharp_np, output_img, data_range=255)\n",
    "    current_ssim = ssim(sharp_np, output_img, multichannel=True, data_range=255)\n",
    "\n",
    "    psnr_list.append(current_psnr)\n",
    "    ssim_list.append(current_ssim)\n",
    "\n",
    "    # Output results for each file\n",
    "    print(f\"{os.path.basename(blur_path)} -> PSNR: {current_psnr:.2f}, SSIM: {current_ssim:.4f}\")\n",
    "\n",
    "    # Visualization (optional)\n",
    "    fig, axs = plt.subplots(1, 3, figsize=(15,5))\n",
    "    axs[0].imshow(blur_img); axs[0].set_title('Blurred'); axs[0].axis('off')\n",
    "    axs[1].imshow(output_img); axs[1].set_title('Deblurred'); axs[1].axis('off')\n",
    "    axs[2].imshow(sharp_img); axs[2].set_title('Sharp (GT)'); axs[2].axis('off')\n",
    "    plt.show()\n"
   ]
  },
  {
   "cell_type": "code",
   "execution_count": null,
   "id": "f0c0582a",
   "metadata": {},
   "outputs": [],
   "source": [
    "print(f\"Average PSNR: {np.mean(psnr_list):.2f}\")\n",
    "print(f\"Average SSIM: {np.mean(ssim_list):.4f}\")"
   ]
  }
 ],
 "metadata": {
  "kernelspec": {
   "display_name": "Python 3",
   "language": "python",
   "name": "python3"
  },
  "language_info": {
   "codemirror_mode": {
    "name": "ipython",
    "version": 3
   },
   "file_extension": ".py",
   "mimetype": "text/x-python",
   "name": "python",
   "nbconvert_exporter": "python",
   "pygments_lexer": "ipython3",
   "version": "3.13.3"
  }
 },
 "nbformat": 4,
 "nbformat_minor": 5
}
