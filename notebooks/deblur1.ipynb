{
  "nbformat": 4,
  "nbformat_minor": 0,
  "metadata": {
    "colab": {
      "provenance": []
    },
    "kernelspec": {
      "name": "python3",
      "display_name": "Python 3"
    },
    "language_info": {
      "name": "python"
    }
  },
  "cells": [
    {
      "cell_type": "code",
      "source": [
        "import os\n",
        "import torch\n",
        "import torch.nn.functional as F\n",
        "import torchvision.transforms.functional as TF\n",
        "from PIL import Image\n",
        "from glob import glob\n",
        "from natsort import natsorted\n",
        "import argparse\n",
        "from skimage import img_as_ubyte\n",
        "import cv2\n",
        "from collections import OrderedDict"
      ],
      "metadata": {
        "id": "n9Hu3oKtCTAG"
      },
      "execution_count": 14,
      "outputs": []
    },
    {
      "cell_type": "code",
      "source": [
        "from MPRNet import MPRNet"
      ],
      "metadata": {
        "id": "U2S9IpdeCS7u"
      },
      "execution_count": 15,
      "outputs": []
    },
    {
      "cell_type": "code",
      "source": [
        "def save_img(filepath, img):\n",
        "    cv2.imwrite(filepath, cv2.cvtColor(img, cv2.COLOR_RGB2BGR))\n",
        "\n",
        "\n",
        "def load_checkpoint(model, weights):\n",
        "    checkpoint = torch.load(weights, map_location='cpu')\n",
        "\n",
        "    if 'state_dict' in checkpoint:\n",
        "        state_dict = checkpoint['state_dict']\n",
        "    else:\n",
        "        state_dict = checkpoint\n",
        "\n",
        "    new_state_dict = OrderedDict()\n",
        "    for k, v in state_dict.items():\n",
        "\n",
        "        if k.startswith('module.'):\n",
        "            name = k[7:]\n",
        "        else:\n",
        "            name = k\n",
        "        new_state_dict[name] = v\n",
        "\n",
        "    model.load_state_dict(new_state_dict)\n",
        "    print(\"Model weights loaded successfully.\")"
      ],
      "metadata": {
        "id": "qhRVPRtDCS5G"
      },
      "execution_count": 16,
      "outputs": []
    },
    {
      "cell_type": "code",
      "source": [
        "def process_images(model, input_dir, result_dir, device):\n",
        "    os.makedirs(result_dir, exist_ok=True)\n",
        "\n",
        "    files = natsorted(glob(os.path.join(input_dir, '*.jpg'))\n",
        "                      + glob(os.path.join(input_dir, '*.JPG'))\n",
        "                      + glob(os.path.join(input_dir, '*.png'))\n",
        "                      + glob(os.path.join(input_dir, '*.PNG')))\n",
        "    if len(files) == 0:\n",
        "        raise Exception(f\"No image files found in {input_dir}\")\n",
        "\n",
        "    img_multiple_of = 8\n",
        "\n",
        "    model.eval()\n",
        "    model.to(device)\n",
        "\n",
        "    with torch.no_grad():\n",
        "        for file_ in files:\n",
        "            img = Image.open(file_).convert('RGB')\n",
        "            input_ = TF.to_tensor(img).unsqueeze(0).to(device)\n",
        "\n",
        "            h, w = input_.shape[2], input_.shape[3]\n",
        "            H = ((h + img_multiple_of) // img_multiple_of) * img_multiple_of\n",
        "            W = ((w + img_multiple_of) // img_multiple_of) * img_multiple_of\n",
        "            padh = H - h if h % img_multiple_of != 0 else 0\n",
        "            padw = W - w if w % img_multiple_of != 0 else 0\n",
        "\n",
        "            input_ = F.pad(input_, (0, padw, 0, padh), 'reflect')\n",
        "\n",
        "            restored = model(input_)\n",
        "            restored = restored[0]\n",
        "            restored = torch.clamp(restored, 0, 1)\n",
        "\n",
        "            restored = restored[:, :h, :w]\n",
        "            restored = restored.permute(1, 2, 0).cpu().numpy()\n",
        "            restored = img_as_ubyte(restored)\n",
        "\n",
        "            filename = os.path.splitext(os.path.basename(file_))[0]\n",
        "            save_img(os.path.join(result_dir, f\"{filename}_deblurred.png\"), restored)\n",
        "            print(f\"Processed and saved: {filename}_deblurred.png\")"
      ],
      "metadata": {
        "id": "90Emfl80CS2d"
      },
      "execution_count": null,
      "outputs": []
    },
    {
      "cell_type": "code",
      "source": [],
      "metadata": {
        "id": "bTcVuYWMCS0G"
      },
      "execution_count": null,
      "outputs": []
    },
    {
      "cell_type": "code",
      "source": [],
      "metadata": {
        "id": "3H15uqoGCSxe"
      },
      "execution_count": null,
      "outputs": []
    },
    {
      "cell_type": "code",
      "source": [],
      "metadata": {
        "id": "ouwSJ6h-CSu2"
      },
      "execution_count": null,
      "outputs": []
    },
    {
      "cell_type": "code",
      "source": [],
      "metadata": {
        "id": "zcK8_bfwB7gI"
      },
      "execution_count": null,
      "outputs": []
    },
    {
      "cell_type": "code",
      "source": [],
      "metadata": {
        "id": "Bn2vUCvKB7d2"
      },
      "execution_count": null,
      "outputs": []
    },
    {
      "cell_type": "code",
      "source": [],
      "metadata": {
        "id": "oc8BBbQAB7bI"
      },
      "execution_count": null,
      "outputs": []
    },
    {
      "cell_type": "code",
      "source": [],
      "metadata": {
        "id": "1DSzWawAB7YJ"
      },
      "execution_count": null,
      "outputs": []
    },
    {
      "cell_type": "code",
      "source": [],
      "metadata": {
        "id": "k0ZKX5H6B7Vh"
      },
      "execution_count": null,
      "outputs": []
    },
    {
      "cell_type": "code",
      "source": [],
      "metadata": {
        "id": "lM2VTaMI-GUs"
      },
      "execution_count": null,
      "outputs": []
    },
    {
      "cell_type": "code",
      "source": [],
      "metadata": {
        "id": "K4RREXH9-GSE"
      },
      "execution_count": null,
      "outputs": []
    },
    {
      "cell_type": "code",
      "source": [],
      "metadata": {
        "id": "ZdQSXrj_-GPM"
      },
      "execution_count": null,
      "outputs": []
    },
    {
      "cell_type": "code",
      "source": [],
      "metadata": {
        "id": "Gd2NhKRI-GMl"
      },
      "execution_count": null,
      "outputs": []
    }
  ]
}